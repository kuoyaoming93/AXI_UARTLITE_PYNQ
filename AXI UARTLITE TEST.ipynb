{
 "cells": [
  {
   "cell_type": "code",
   "execution_count": null,
   "metadata": {
    "collapsed": true
   },
   "outputs": [],
   "source": [
    "# PMOD A: 1:RX, 2:TX. baud 9600"
   ]
  },
  {
   "cell_type": "code",
   "execution_count": 26,
   "metadata": {
    "collapsed": true
   },
   "outputs": [],
   "source": [
    "from time import sleep, time\n",
    "\n",
    "RX_FIFO = 0x00\n",
    "TX_FIFO = 0x04\n",
    "#Status Reg\n",
    "STAT_REG = 0x08\n",
    "\n",
    "RX_VALID = 0\n",
    "RX_FULL = 1\n",
    "TX_EMPTY = 2\n",
    "TX_FULL = 3\n",
    "IS_INTR = 4\n",
    "OVERRUN_ERR = 5\n",
    "FRAME_ERR = 6\n",
    "PARITY_ERR =7\n",
    "\n",
    "#Ctrl Reg\n",
    "CTRL_REG = 0x0C\n",
    "\n",
    "RST_TX = 0\n",
    "RST_RX = 1\n",
    "INTR_EN = 4\n",
    "\n",
    "def get_bit(num,pos):\n",
    "    return (num&1<<pos)>>pos\n",
    "\n",
    "def setup_ctrl_reg(uart):\n",
    "    # Reset FIFOs, disable interrupts\n",
    "    uart.write(CTRL_REG, 1<<RST_TX | 1<<RST_RX)\n",
    "    sleep(1)\n",
    "    uart.write(CTRL_REG,0)\n",
    "    sleep(1)\n",
    "\n",
    "def current_status(uart):\n",
    "    \"\"\"Returns object that specifies current status of axi core\"\"\"\n",
    "    status = uart.read(STAT_REG)\n",
    "    return {'RX_VALID':get_bit(status,RX_VALID),\n",
    "           'RX_FULL':get_bit(status, RX_FULL),\n",
    "           'TX_EMPTY':get_bit(status, TX_EMPTY),\n",
    "           'TX_FULL':get_bit(status, TX_FULL),\n",
    "           'IS_INTR':get_bit(status, IS_INTR),\n",
    "           'OVERRUN_ERR':get_bit(status, OVERRUN_ERR),\n",
    "           'FRAME_ERR':get_bit(status, FRAME_ERR),\n",
    "           'PARITY_ERR':get_bit(status, PARITY_ERR)}\n",
    "\n",
    "def read_uart(uart, count, timeout = 10):\n",
    "    # status = current_status(uart) bad idea\n",
    "    buf = \"\"\n",
    "    stop_time = time() + timeout\n",
    "    for i in range(count):\n",
    "        # Wait till RX fifo has valid data, stop waiting if timeoutpasses\n",
    "        while (not (uart.read(STAT_REG) & 1<<RX_VALID)) and (time()<stop_time):\n",
    "            sleep(0.1)\n",
    "        if time()>stop_time:\n",
    "            break\n",
    "        buf += chr(uart.read(RX_FIFO))\n",
    "    return buf\n",
    "\n",
    "def write_uart(uart, buf, timeout = 10):\n",
    "    \"\"\"\n",
    "    buf: iterable\n",
    "    \n",
    "    \"\"\"\n",
    "    stop_time = time() + timeout\n",
    "    wr_count = 0\n",
    "    for i in buf:\n",
    "        #Wait while TX FIFO is Full, stop waiting if timeout passes \n",
    "        while (uart.read(STAT_REG) & 1<<TX_FULL) and (time()<stop_time):\n",
    "            sleep(0.1)\n",
    "        # Check timeout\n",
    "        if time()>stop_time:\n",
    "            break\n",
    "        uart.write(TX_FIFO, ord(i))\n",
    "        wr_count += 1\n",
    "    return wr_count   \n",
    "\n",
    "def readline_uart(uart):\n",
    "    buf = read_uart(uart, 1)\n",
    "    if len(buf) ==0:\n",
    "        return \"\"\n",
    "    while '\\n' not in buf:\n",
    "        buf += read_uart(uart, 1)\n",
    "    return buf\n"
   ]
  },
  {
   "cell_type": "code",
   "execution_count": 9,
   "metadata": {},
   "outputs": [
    {
     "name": "stdout",
     "output_type": "stream",
     "text": [
      "MMIO Debug: MMIO(address, size) = (42c00000, 10000 bytes).\n"
     ]
    }
   ],
   "source": [
    "# Example Usecase\n",
    "from pynq import MMIO\n",
    "from pynq import Overlay\n",
    "ol = Overlay(\"uartlitetest.bit\")\n",
    "ol.download()\n",
    "\n",
    "ADDRESS = 0x42c00000  # Address of the ip core"
   ]
  },
  {
   "cell_type": "code",
   "execution_count": 11,
   "metadata": {},
   "outputs": [
    {
     "name": "stdout",
     "output_type": "stream",
     "text": [
      "{'RX_VALID': 0, 'RX_FULL': 0, 'TX_EMPTY': 1, 'TX_FULL': 0, 'IS_INTR': 0, 'OVERRUN_ERR': 0, 'FRAME_ERR': 0, 'PARITY_ERR': 0}\n",
      "{'RX_VALID': 1, 'RX_FULL': 0, 'TX_EMPTY': 0, 'TX_FULL': 0, 'IS_INTR': 0, 'OVERRUN_ERR': 0, 'FRAME_ERR': 0, 'PARITY_ERR': 0}\n"
     ]
    },
    {
     "ename": "KeyboardInterrupt",
     "evalue": "",
     "output_type": "error",
     "traceback": [
      "\u001b[0;31m---------------------------------------------------------------------------\u001b[0m",
      "\u001b[0;31mKeyboardInterrupt\u001b[0m                         Traceback (most recent call last)",
      "\u001b[0;32m<ipython-input-11-357f80234fa5>\u001b[0m in \u001b[0;36m<module>\u001b[0;34m()\u001b[0m\n\u001b[1;32m      8\u001b[0m \u001b[0mwrite_uart\u001b[0m\u001b[0;34m(\u001b[0m\u001b[0muart\u001b[0m\u001b[0;34m,\u001b[0m\u001b[0;34m'heldsklfjs\\n'\u001b[0m\u001b[0;34m)\u001b[0m\u001b[0;34m\u001b[0m\u001b[0m\n\u001b[1;32m      9\u001b[0m \u001b[0mprint\u001b[0m\u001b[0;34m(\u001b[0m\u001b[0mcurrent_status\u001b[0m\u001b[0;34m(\u001b[0m\u001b[0muart\u001b[0m\u001b[0;34m)\u001b[0m\u001b[0;34m)\u001b[0m\u001b[0;34m\u001b[0m\u001b[0m\n\u001b[0;32m---> 10\u001b[0;31m \u001b[0mprint\u001b[0m\u001b[0;34m(\u001b[0m\u001b[0mreadline_uart\u001b[0m\u001b[0;34m(\u001b[0m\u001b[0muart\u001b[0m\u001b[0;34m)\u001b[0m\u001b[0;34m)\u001b[0m\u001b[0;34m\u001b[0m\u001b[0m\n\u001b[0m\u001b[1;32m     11\u001b[0m \u001b[0mprint\u001b[0m\u001b[0;34m(\u001b[0m\u001b[0mcurrent_status\u001b[0m\u001b[0;34m(\u001b[0m\u001b[0muart\u001b[0m\u001b[0;34m)\u001b[0m\u001b[0;34m)\u001b[0m\u001b[0;34m\u001b[0m\u001b[0m\n",
      "\u001b[0;32m<ipython-input-1-c61345748783>\u001b[0m in \u001b[0;36mreadline_uart\u001b[0;34m(uart)\u001b[0m\n\u001b[1;32m     80\u001b[0m         \u001b[0;32mreturn\u001b[0m \u001b[0;34m\"\"\u001b[0m\u001b[0;34m\u001b[0m\u001b[0m\n\u001b[1;32m     81\u001b[0m     \u001b[0;32mwhile\u001b[0m \u001b[0mbuf\u001b[0m\u001b[0;34m[\u001b[0m\u001b[0;34m-\u001b[0m\u001b[0;36m1\u001b[0m\u001b[0;34m]\u001b[0m \u001b[0;34m!=\u001b[0m \u001b[0;34m'\\n'\u001b[0m \u001b[0;32mor\u001b[0m \u001b[0mbuf\u001b[0m\u001b[0;34m[\u001b[0m\u001b[0;34m-\u001b[0m\u001b[0;36m1\u001b[0m\u001b[0;34m]\u001b[0m \u001b[0;34m!=\u001b[0m \u001b[0;34m'x\\00'\u001b[0m\u001b[0;34m:\u001b[0m\u001b[0;34m\u001b[0m\u001b[0m\n\u001b[0;32m---> 82\u001b[0;31m         \u001b[0mbuf\u001b[0m \u001b[0;34m+=\u001b[0m \u001b[0mread_uart\u001b[0m\u001b[0;34m(\u001b[0m\u001b[0muart\u001b[0m\u001b[0;34m,\u001b[0m \u001b[0;36m1\u001b[0m\u001b[0;34m)\u001b[0m\u001b[0;34m\u001b[0m\u001b[0m\n\u001b[0m\u001b[1;32m     83\u001b[0m     \u001b[0;32mreturn\u001b[0m \u001b[0mbuf\u001b[0m\u001b[0;34m\u001b[0m\u001b[0m\n",
      "\u001b[0;32m<ipython-input-1-c61345748783>\u001b[0m in \u001b[0;36mread_uart\u001b[0;34m(uart, count, timeout)\u001b[0m\n\u001b[1;32m     51\u001b[0m         \u001b[0;31m# Wait till RX fifo has valid data, stop waiting if timeoutpasses\u001b[0m\u001b[0;34m\u001b[0m\u001b[0;34m\u001b[0m\u001b[0m\n\u001b[1;32m     52\u001b[0m         \u001b[0;32mwhile\u001b[0m \u001b[0;34m(\u001b[0m\u001b[0;32mnot\u001b[0m \u001b[0;34m(\u001b[0m\u001b[0muart\u001b[0m\u001b[0;34m.\u001b[0m\u001b[0mread\u001b[0m\u001b[0;34m(\u001b[0m\u001b[0mSTAT_REG\u001b[0m\u001b[0;34m)\u001b[0m \u001b[0;34m&\u001b[0m \u001b[0;36m1\u001b[0m\u001b[0;34m<<\u001b[0m\u001b[0mRX_VALID\u001b[0m\u001b[0;34m)\u001b[0m\u001b[0;34m)\u001b[0m \u001b[0;32mand\u001b[0m \u001b[0;34m(\u001b[0m\u001b[0mtime\u001b[0m\u001b[0;34m(\u001b[0m\u001b[0;34m)\u001b[0m\u001b[0;34m<\u001b[0m\u001b[0mstop_time\u001b[0m\u001b[0;34m)\u001b[0m\u001b[0;34m:\u001b[0m\u001b[0;34m\u001b[0m\u001b[0m\n\u001b[0;32m---> 53\u001b[0;31m             \u001b[0msleep\u001b[0m\u001b[0;34m(\u001b[0m\u001b[0;36m0.1\u001b[0m\u001b[0;34m)\u001b[0m\u001b[0;34m\u001b[0m\u001b[0m\n\u001b[0m\u001b[1;32m     54\u001b[0m         \u001b[0;32mif\u001b[0m \u001b[0mtime\u001b[0m\u001b[0;34m(\u001b[0m\u001b[0;34m)\u001b[0m\u001b[0;34m>\u001b[0m\u001b[0mstop_time\u001b[0m\u001b[0;34m:\u001b[0m\u001b[0;34m\u001b[0m\u001b[0m\n\u001b[1;32m     55\u001b[0m             \u001b[0;32mbreak\u001b[0m\u001b[0;34m\u001b[0m\u001b[0m\n",
      "\u001b[0;31mKeyboardInterrupt\u001b[0m: "
     ]
    }
   ],
   "source": [
    "# Setup axi core\n",
    "uart = MMIO(ADDRESS,0x10000, debug=False)\n",
    "setup_ctrl_reg(uart)\n",
    "# Check Status\n",
    "print(current_status(uart))\n",
    "\n",
    "# Loopback test\n",
    "write_uart(uart,'heldsklfjs\\n')\n",
    "print(current_status(uart))\n",
    "#print(readline_uart(uart))\n"
   ]
  }
 ],
 "metadata": {
  "kernelspec": {
   "display_name": "Python 3",
   "language": "python",
   "name": "python3"
  },
  "language_info": {
   "codemirror_mode": {
    "name": "ipython",
    "version": 3
   },
   "file_extension": ".py",
   "mimetype": "text/x-python",
   "name": "python",
   "nbconvert_exporter": "python",
   "pygments_lexer": "ipython3",
   "version": "3.6.0"
  }
 },
 "nbformat": 4,
 "nbformat_minor": 2
}
